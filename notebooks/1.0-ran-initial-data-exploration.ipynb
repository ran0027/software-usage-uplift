{
 "cells": [
  {
   "cell_type": "markdown",
   "id": "fce0a48f",
   "metadata": {},
   "source": [
    "# Exploratory Data Analysis for Software Usage Uplift Project\n",
    "\n",
    "## Rebecca Neel &nbsp; &nbsp; 08/22/2023\n",
    "\n",
    "[Data Source](https://www.kaggle.com/datasets/hwwang98/software-usage-promotion-campaign-uplift-model)"
   ]
  },
  {
   "cell_type": "markdown",
   "id": "f1285afe",
   "metadata": {},
   "source": [
    "## Load Packages"
   ]
  },
  {
   "cell_type": "code",
   "execution_count": 1,
   "id": "6d754698",
   "metadata": {},
   "outputs": [],
   "source": [
    "import pandas as pd\n",
    "import numpy as np\n",
    "\n",
    "import matplotlib.pyplot as plt\n",
    "import seaborn as sns"
   ]
  },
  {
   "cell_type": "markdown",
   "id": "de407d58",
   "metadata": {},
   "source": [
    "## Load Data"
   ]
  },
  {
   "cell_type": "code",
   "execution_count": 2,
   "id": "191a38df",
   "metadata": {},
   "outputs": [
    {
     "data": {
      "text/html": [
       "<div>\n",
       "<style scoped>\n",
       "    .dataframe tbody tr th:only-of-type {\n",
       "        vertical-align: middle;\n",
       "    }\n",
       "\n",
       "    .dataframe tbody tr th {\n",
       "        vertical-align: top;\n",
       "    }\n",
       "\n",
       "    .dataframe thead th {\n",
       "        text-align: right;\n",
       "    }\n",
       "</style>\n",
       "<table border=\"1\" class=\"dataframe\">\n",
       "  <thead>\n",
       "    <tr style=\"text-align: right;\">\n",
       "      <th></th>\n",
       "      <th>Global Flag</th>\n",
       "      <th>Major Flag</th>\n",
       "      <th>SMC Flag</th>\n",
       "      <th>Commercial Flag</th>\n",
       "      <th>IT Spend</th>\n",
       "      <th>Employee Count</th>\n",
       "      <th>PC Count</th>\n",
       "      <th>Size</th>\n",
       "      <th>Tech Support</th>\n",
       "      <th>Discount</th>\n",
       "      <th>Revenue</th>\n",
       "    </tr>\n",
       "  </thead>\n",
       "  <tbody>\n",
       "    <tr>\n",
       "      <th>0</th>\n",
       "      <td>1</td>\n",
       "      <td>0</td>\n",
       "      <td>1</td>\n",
       "      <td>0</td>\n",
       "      <td>45537</td>\n",
       "      <td>26</td>\n",
       "      <td>26</td>\n",
       "      <td>152205</td>\n",
       "      <td>0</td>\n",
       "      <td>1</td>\n",
       "      <td>17688.36300</td>\n",
       "    </tr>\n",
       "    <tr>\n",
       "      <th>1</th>\n",
       "      <td>0</td>\n",
       "      <td>0</td>\n",
       "      <td>1</td>\n",
       "      <td>1</td>\n",
       "      <td>20842</td>\n",
       "      <td>107</td>\n",
       "      <td>70</td>\n",
       "      <td>159038</td>\n",
       "      <td>0</td>\n",
       "      <td>1</td>\n",
       "      <td>14981.43559</td>\n",
       "    </tr>\n",
       "    <tr>\n",
       "      <th>2</th>\n",
       "      <td>0</td>\n",
       "      <td>0</td>\n",
       "      <td>0</td>\n",
       "      <td>1</td>\n",
       "      <td>82171</td>\n",
       "      <td>10</td>\n",
       "      <td>7</td>\n",
       "      <td>264935</td>\n",
       "      <td>1</td>\n",
       "      <td>1</td>\n",
       "      <td>32917.13894</td>\n",
       "    </tr>\n",
       "    <tr>\n",
       "      <th>3</th>\n",
       "      <td>0</td>\n",
       "      <td>0</td>\n",
       "      <td>0</td>\n",
       "      <td>0</td>\n",
       "      <td>30288</td>\n",
       "      <td>40</td>\n",
       "      <td>39</td>\n",
       "      <td>77522</td>\n",
       "      <td>1</td>\n",
       "      <td>1</td>\n",
       "      <td>14773.76855</td>\n",
       "    </tr>\n",
       "    <tr>\n",
       "      <th>4</th>\n",
       "      <td>0</td>\n",
       "      <td>0</td>\n",
       "      <td>1</td>\n",
       "      <td>0</td>\n",
       "      <td>25930</td>\n",
       "      <td>37</td>\n",
       "      <td>43</td>\n",
       "      <td>91446</td>\n",
       "      <td>1</td>\n",
       "      <td>1</td>\n",
       "      <td>17098.69823</td>\n",
       "    </tr>\n",
       "  </tbody>\n",
       "</table>\n",
       "</div>"
      ],
      "text/plain": [
       "   Global Flag  Major Flag  SMC Flag  Commercial Flag  IT Spend  \\\n",
       "0            1           0         1                0     45537   \n",
       "1            0           0         1                1     20842   \n",
       "2            0           0         0                1     82171   \n",
       "3            0           0         0                0     30288   \n",
       "4            0           0         1                0     25930   \n",
       "\n",
       "   Employee Count  PC Count    Size  Tech Support  Discount      Revenue  \n",
       "0              26        26  152205             0         1  17688.36300  \n",
       "1             107        70  159038             0         1  14981.43559  \n",
       "2              10         7  264935             1         1  32917.13894  \n",
       "3              40        39   77522             1         1  14773.76855  \n",
       "4              37        43   91446             1         1  17098.69823  "
      ]
     },
     "execution_count": 2,
     "metadata": {},
     "output_type": "execute_result"
    }
   ],
   "source": [
    "data = pd.read_csv('../data/raw/multi_attribution.csv')\n",
    "data.head()"
   ]
  },
  {
   "cell_type": "code",
   "execution_count": 3,
   "id": "054c0473",
   "metadata": {},
   "outputs": [
    {
     "data": {
      "text/plain": [
       "(2000, 11)"
      ]
     },
     "execution_count": 3,
     "metadata": {},
     "output_type": "execute_result"
    }
   ],
   "source": [
    "data.shape"
   ]
  },
  {
   "cell_type": "markdown",
   "id": "ee2c94dd",
   "metadata": {},
   "source": [
    "The data contains several \"flags\" indicating whether or not a company has certain characteristics. The distribution of the data in these characteristics is visualized in bar plots below.\n",
    "\n",
    "To summarize, most companies we serve are...\n",
    "\n",
    "- not global\n",
    "- major consumers of software in their industry\n",
    "- evenly distributed between small-to-medium corporations, and small businesses or large corporations\n",
    "- mostly in the public sector (only a few are commercial enterprises)"
   ]
  },
  {
   "cell_type": "code",
   "execution_count": 59,
   "id": "0bd7eb38",
   "metadata": {},
   "outputs": [
    {
     "data": {
      "image/png": "[encoded data removed]",
      "text/plain": [
       "<Figure size 432x288 with 1 Axes>"
      ]
     },
     "metadata": {
      "needs_background": "light"
     },
     "output_type": "display_data"
    }
   ],
   "source": [
    "fig, ax = plt.subplots()\n",
    "\n",
    "data['Global Flag'].value_counts().plot(kind='barh', ax=ax)\n",
    "ax.set(title='Has Global Offices?')\n",
    "ax.set_yticklabels(['Companies without global offices', 'Companies with global offices']);"
   ]
  },
  {
   "cell_type": "code",
   "execution_count": 60,
   "id": "f049b758",
   "metadata": {},
   "outputs": [
    {
     "data": {
      "image/png": "[encoded data removed]",
      "text/plain": [
       "<Figure size 432x288 with 1 Axes>"
      ]
     },
     "metadata": {
      "needs_background": "light"
     },
     "output_type": "display_data"
    }
   ],
   "source": [
    "fig, ax = plt.subplots()\n",
    "\n",
    "data['Major Flag'].value_counts().plot(kind='barh', ax=ax)\n",
    "ax.set(title='Major Consumer (of Software) in Their Industry?')\n",
    "ax.set_yticklabels(['Major consumers of software', 'Not major consumers of software']);"
   ]
  },
  {
   "cell_type": "code",
   "execution_count": 61,
   "id": "ab2ea8bd",
   "metadata": {},
   "outputs": [
    {
     "data": {
      "image/png": "[encoded data removed]",
      "text/plain": [
       "<Figure size 432x288 with 1 Axes>"
      ]
     },
     "metadata": {
      "needs_background": "light"
     },
     "output_type": "display_data"
    }
   ],
   "source": [
    "fig, ax = plt.subplots()\n",
    "\n",
    "data['SMC Flag'].value_counts().plot(kind='barh', ax=ax)\n",
    "ax.set(title='Small-to-Medium Corporation?')\n",
    "ax.set_yticklabels(['Companies which are not small-to-medium corporations', 'Small-to-medium corporations']);"
   ]
  },
  {
   "cell_type": "markdown",
   "id": "90e02986",
   "metadata": {},
   "source": [
    "Of those companies that are *not* small to medium corporations, they are a mixture of large corporations and small businesses, based on the distribution of the companies' sizes."
   ]
  },
  {
   "cell_type": "code",
   "execution_count": 23,
   "id": "ba345c40",
   "metadata": {},
   "outputs": [
    {
     "data": {
      "text/plain": [
       "count       991.000000\n",
       "mean     117045.086781\n",
       "std      101890.004878\n",
       "min       10101.000000\n",
       "25%       41265.000000\n",
       "50%       85971.000000\n",
       "75%      159363.000000\n",
       "max      766485.000000\n",
       "Name: Size, dtype: float64"
      ]
     },
     "execution_count": 23,
     "metadata": {},
     "output_type": "execute_result"
    }
   ],
   "source": [
    "data.loc[data['SMC Flag'] == 0, 'Size'].describe()"
   ]
  },
  {
   "cell_type": "code",
   "execution_count": 24,
   "id": "49627998",
   "metadata": {},
   "outputs": [
    {
     "data": {
      "image/png": "[encoded data removed]",
      "text/plain": [
       "<Figure size 432x288 with 1 Axes>"
      ]
     },
     "metadata": {
      "needs_background": "light"
     },
     "output_type": "display_data"
    }
   ],
   "source": [
    "fig, ax = plt.subplots()\n",
    "\n",
    "data['Commercial Flag'].value_counts().plot(kind='barh', ax=ax)\n",
    "ax.set(title='Commercial Companies versus Public Sector')\n",
    "ax.set_yticklabels(['Public Sector', 'Commercial Enterprise']);"
   ]
  },
  {
   "cell_type": "code",
   "execution_count": 9,
   "id": "85313bdf",
   "metadata": {
    "scrolled": false
   },
   "outputs": [
    {
     "data": {
      "text/html": [
       "<div>\n",
       "<style scoped>\n",
       "    .dataframe tbody tr th:only-of-type {\n",
       "        vertical-align: middle;\n",
       "    }\n",
       "\n",
       "    .dataframe tbody tr th {\n",
       "        vertical-align: top;\n",
       "    }\n",
       "\n",
       "    .dataframe thead th {\n",
       "        text-align: right;\n",
       "    }\n",
       "</style>\n",
       "<table border=\"1\" class=\"dataframe\">\n",
       "  <thead>\n",
       "    <tr style=\"text-align: right;\">\n",
       "      <th></th>\n",
       "      <th>Global Flag</th>\n",
       "      <th>Major Flag</th>\n",
       "      <th>SMC Flag</th>\n",
       "      <th>Commercial Flag</th>\n",
       "      <th>IT Spend</th>\n",
       "      <th>Employee Count</th>\n",
       "      <th>PC Count</th>\n",
       "      <th>Size</th>\n",
       "      <th>Tech Support</th>\n",
       "      <th>Discount</th>\n",
       "      <th>Revenue</th>\n",
       "    </tr>\n",
       "  </thead>\n",
       "  <tbody>\n",
       "    <tr>\n",
       "      <th>count</th>\n",
       "      <td>2000.000000</td>\n",
       "      <td>2000.0000</td>\n",
       "      <td>2000.000000</td>\n",
       "      <td>2000.000000</td>\n",
       "      <td>2000.000000</td>\n",
       "      <td>2000.000000</td>\n",
       "      <td>2000.000000</td>\n",
       "      <td>2000.000000</td>\n",
       "      <td>2000.000000</td>\n",
       "      <td>2000.000000</td>\n",
       "      <td>2000.000000</td>\n",
       "    </tr>\n",
       "    <tr>\n",
       "      <th>mean</th>\n",
       "      <td>0.202000</td>\n",
       "      <td>0.1950</td>\n",
       "      <td>0.504500</td>\n",
       "      <td>0.691000</td>\n",
       "      <td>28272.703000</td>\n",
       "      <td>61.115000</td>\n",
       "      <td>57.345500</td>\n",
       "      <td>113159.120000</td>\n",
       "      <td>0.503000</td>\n",
       "      <td>0.510500</td>\n",
       "      <td>15397.917422</td>\n",
       "    </tr>\n",
       "    <tr>\n",
       "      <th>std</th>\n",
       "      <td>0.401593</td>\n",
       "      <td>0.3963</td>\n",
       "      <td>0.500105</td>\n",
       "      <td>0.462197</td>\n",
       "      <td>28207.138885</td>\n",
       "      <td>53.449707</td>\n",
       "      <td>52.861123</td>\n",
       "      <td>100987.600092</td>\n",
       "      <td>0.500116</td>\n",
       "      <td>0.500015</td>\n",
       "      <td>11290.944451</td>\n",
       "    </tr>\n",
       "    <tr>\n",
       "      <th>min</th>\n",
       "      <td>0.000000</td>\n",
       "      <td>0.0000</td>\n",
       "      <td>0.000000</td>\n",
       "      <td>0.000000</td>\n",
       "      <td>1161.000000</td>\n",
       "      <td>10.000000</td>\n",
       "      <td>6.000000</td>\n",
       "      <td>10101.000000</td>\n",
       "      <td>0.000000</td>\n",
       "      <td>0.000000</td>\n",
       "      <td>-616.572451</td>\n",
       "    </tr>\n",
       "    <tr>\n",
       "      <th>25%</th>\n",
       "      <td>0.000000</td>\n",
       "      <td>0.0000</td>\n",
       "      <td>0.000000</td>\n",
       "      <td>0.000000</td>\n",
       "      <td>8914.000000</td>\n",
       "      <td>24.000000</td>\n",
       "      <td>22.000000</td>\n",
       "      <td>39282.000000</td>\n",
       "      <td>0.000000</td>\n",
       "      <td>0.000000</td>\n",
       "      <td>7545.052008</td>\n",
       "    </tr>\n",
       "    <tr>\n",
       "      <th>50%</th>\n",
       "      <td>0.000000</td>\n",
       "      <td>0.0000</td>\n",
       "      <td>1.000000</td>\n",
       "      <td>1.000000</td>\n",
       "      <td>19210.500000</td>\n",
       "      <td>44.000000</td>\n",
       "      <td>41.000000</td>\n",
       "      <td>81378.000000</td>\n",
       "      <td>1.000000</td>\n",
       "      <td>1.000000</td>\n",
       "      <td>12582.446440</td>\n",
       "    </tr>\n",
       "    <tr>\n",
       "      <th>75%</th>\n",
       "      <td>0.000000</td>\n",
       "      <td>0.0000</td>\n",
       "      <td>1.000000</td>\n",
       "      <td>1.000000</td>\n",
       "      <td>37991.500000</td>\n",
       "      <td>79.000000</td>\n",
       "      <td>74.000000</td>\n",
       "      <td>155635.000000</td>\n",
       "      <td>1.000000</td>\n",
       "      <td>1.000000</td>\n",
       "      <td>19662.979475</td>\n",
       "    </tr>\n",
       "    <tr>\n",
       "      <th>max</th>\n",
       "      <td>1.000000</td>\n",
       "      <td>1.0000</td>\n",
       "      <td>1.000000</td>\n",
       "      <td>1.000000</td>\n",
       "      <td>259808.000000</td>\n",
       "      <td>535.000000</td>\n",
       "      <td>407.000000</td>\n",
       "      <td>766485.000000</td>\n",
       "      <td>1.000000</td>\n",
       "      <td>1.000000</td>\n",
       "      <td>86006.924450</td>\n",
       "    </tr>\n",
       "  </tbody>\n",
       "</table>\n",
       "</div>"
      ],
      "text/plain": [
       "       Global Flag  Major Flag     SMC Flag  Commercial Flag       IT Spend  \\\n",
       "count  2000.000000   2000.0000  2000.000000      2000.000000    2000.000000   \n",
       "mean      0.202000      0.1950     0.504500         0.691000   28272.703000   \n",
       "std       0.401593      0.3963     0.500105         0.462197   28207.138885   \n",
       "min       0.000000      0.0000     0.000000         0.000000    1161.000000   \n",
       "25%       0.000000      0.0000     0.000000         0.000000    8914.000000   \n",
       "50%       0.000000      0.0000     1.000000         1.000000   19210.500000   \n",
       "75%       0.000000      0.0000     1.000000         1.000000   37991.500000   \n",
       "max       1.000000      1.0000     1.000000         1.000000  259808.000000   \n",
       "\n",
       "       Employee Count     PC Count           Size  Tech Support     Discount  \\\n",
       "count     2000.000000  2000.000000    2000.000000   2000.000000  2000.000000   \n",
       "mean        61.115000    57.345500  113159.120000      0.503000     0.510500   \n",
       "std         53.449707    52.861123  100987.600092      0.500116     0.500015   \n",
       "min         10.000000     6.000000   10101.000000      0.000000     0.000000   \n",
       "25%         24.000000    22.000000   39282.000000      0.000000     0.000000   \n",
       "50%         44.000000    41.000000   81378.000000      1.000000     1.000000   \n",
       "75%         79.000000    74.000000  155635.000000      1.000000     1.000000   \n",
       "max        535.000000   407.000000  766485.000000      1.000000     1.000000   \n",
       "\n",
       "            Revenue  \n",
       "count   2000.000000  \n",
       "mean   15397.917422  \n",
       "std    11290.944451  \n",
       "min     -616.572451  \n",
       "25%     7545.052008  \n",
       "50%    12582.446440  \n",
       "75%    19662.979475  \n",
       "max    86006.924450  "
      ]
     },
     "execution_count": 9,
     "metadata": {},
     "output_type": "execute_result"
    }
   ],
   "source": [
    "data.describe()"
   ]
  },
  {
   "cell_type": "markdown",
   "id": "7fdfa4f4",
   "metadata": {},
   "source": [
    "The data also contains information about the amount of money companies spent on IT last year, along with the total revenue we earned from them last year. That information is visualized in box plots below (with outliers excluded, of which there are approximately 15 to 20.)\n",
    "\n",
    "To summarize, most companies spent...\n",
    "- between \\$1000 and \\$80,000 on IT, with the average around \\$28,000\n",
    "- between $-$\\$600 and \\$36,000 total last year"
   ]
  },
  {
   "cell_type": "code",
   "execution_count": 41,
   "id": "4147646b",
   "metadata": {
    "scrolled": true
   },
   "outputs": [
    {
     "data": {
      "image/png": "[encoded data removed]",
      "text/plain": [
       "<Figure size 432x288 with 1 Axes>"
      ]
     },
     "metadata": {
      "needs_background": "light"
     },
     "output_type": "display_data"
    }
   ],
   "source": [
    "fig, ax = plt.subplots()\n",
    "\n",
    "plt.boxplot(x=data['IT Spend'], sym='', vert=False)\n",
    "\n",
    "ax.set(title='IT Spend (this year)')\n",
    "\n",
    "# remove y-axis tickmark and label\n",
    "ax.set_yticklabels([''])\n",
    "ax.set_yticks([]);"
   ]
  },
  {
   "cell_type": "code",
   "execution_count": 49,
   "id": "8a5518ad",
   "metadata": {},
   "outputs": [
    {
     "data": {
      "image/png": "[encoded data removed]",
      "text/plain": [
       "<Figure size 432x288 with 1 Axes>"
      ]
     },
     "metadata": {
      "needs_background": "light"
     },
     "output_type": "display_data"
    }
   ],
   "source": [
    "fig, ax = plt.subplots()\n",
    "\n",
    "plt.boxplot(x=data['Revenue'], sym='', vert=False)\n",
    "\n",
    "ax.set(title='Revenue We Earned From Each Company Last Year')\n",
    "\n",
    "# remove y-axis tickmark and label\n",
    "ax.set_yticklabels([''])\n",
    "ax.set_yticks([]);"
   ]
  },
  {
   "cell_type": "markdown",
   "id": "3bd45346",
   "metadata": {},
   "source": [
    "Finally, the data also contains an employee count, PC count and size (in annual revenue) for each company we serve. Below are those distributions in boxplot form (with outliers excluded.)"
   ]
  },
  {
   "cell_type": "code",
   "execution_count": 42,
   "id": "a030c893",
   "metadata": {},
   "outputs": [
    {
     "data": {
      "image/png": "[encoded data removed]",
      "text/plain": [
       "<Figure size 432x288 with 1 Axes>"
      ]
     },
     "metadata": {
      "needs_background": "light"
     },
     "output_type": "display_data"
    }
   ],
   "source": [
    "fig, ax = plt.subplots()\n",
    "\n",
    "plt.boxplot(x=data['Employee Count'], sym='', vert=False)\n",
    "\n",
    "ax.set(title='Employee Count')\n",
    "\n",
    "# remove y-axis tickmark and label\n",
    "ax.set_yticklabels([''])\n",
    "ax.set_yticks([]);"
   ]
  },
  {
   "cell_type": "code",
   "execution_count": 43,
   "id": "1412796b",
   "metadata": {
    "scrolled": true
   },
   "outputs": [
    {
     "data": {
      "image/png": "[encoded data removed]",
      "text/plain": [
       "<Figure size 432x288 with 1 Axes>"
      ]
     },
     "metadata": {
      "needs_background": "light"
     },
     "output_type": "display_data"
    }
   ],
   "source": [
    "fig, ax = plt.subplots()\n",
    "\n",
    "plt.boxplot(x=data['PC Count'], sym='', vert=False)\n",
    "\n",
    "ax.set(title='Number of PCs Owned by Company')\n",
    "\n",
    "# remove y-axis tickmark and label\n",
    "ax.set_yticklabels([''])\n",
    "ax.set_yticks([]);"
   ]
  },
  {
   "cell_type": "code",
   "execution_count": 46,
   "id": "52f92c42",
   "metadata": {},
   "outputs": [
    {
     "data": {
      "image/png": "[encoded data removed]",
      "text/plain": [
       "<Figure size 432x288 with 1 Axes>"
      ]
     },
     "metadata": {
      "needs_background": "light"
     },
     "output_type": "display_data"
    }
   ],
   "source": [
    "fig, ax = plt.subplots()\n",
    "\n",
    "plt.boxplot(x=data['Size'], sym='', vert=False)\n",
    "\n",
    "ax.set(title='Size of Companies (in Annual Revenue)')\n",
    "\n",
    "# remove y-axis tickmark and label\n",
    "ax.set_yticklabels([''])\n",
    "ax.set_yticks([]);"
   ]
  },
  {
   "cell_type": "markdown",
   "id": "77fcd216",
   "metadata": {},
   "source": [
    "The features we want to investigate here are \"Tech Support\" and \"Discount\".\n",
    "\n",
    "We want to investigate which companies will be most likely to spend more than they would have otherwise if they are given tech support or offered a discount."
   ]
  },
  {
   "cell_type": "code",
   "execution_count": 50,
   "id": "cc073122",
   "metadata": {},
   "outputs": [
    {
     "data": {
      "image/png": "[encoded data removed]",
      "text/plain": [
       "<Figure size 432x288 with 1 Axes>"
      ]
     },
     "metadata": {
      "needs_background": "light"
     },
     "output_type": "display_data"
    }
   ],
   "source": [
    "fig, ax = plt.subplots()\n",
    "\n",
    "data['Tech Support'].value_counts().plot(kind='barh', ax=ax)\n",
    "ax.set(title='How Many Companies Received Tech Support?')\n",
    "ax.set_yticklabels(['No tech support', 'Received tech support']);"
   ]
  },
  {
   "cell_type": "markdown",
   "id": "47515e07",
   "metadata": {},
   "source": [
    "Roughly the same number of companies fall into the treatment group versus the control group for investigating tech support which makes this a good fit for an uplift model (assuming that companies that received tech support were \"selected\" randomly.\\*)\n",
    "\n",
    "\\* *In reality, this is probably a flawed assumption because companies who self-select to receive tech support may tend to have other characteristics, not necessarily recorded in this data, which make them more likely to spend more.*"
   ]
  },
  {
   "cell_type": "code",
   "execution_count": 56,
   "id": "9f1adb86",
   "metadata": {},
   "outputs": [
    {
     "data": {
      "image/png": "[encoded data removed]",
      "text/plain": [
       "<Figure size 432x288 with 1 Axes>"
      ]
     },
     "metadata": {
      "needs_background": "light"
     },
     "output_type": "display_data"
    }
   ],
   "source": [
    "fig, ax = plt.subplots()\n",
    "\n",
    "data.groupby(['Tech Support']).mean()['Revenue'].plot(kind='bar', ax=ax)\n",
    "ax.set(title='Effect of Receiving Tech Support on Revenue')\n",
    "ax.set_xticklabels(['No tech support', 'Received tech support'], rotation=0)\n",
    "ax.set_xlabel('')\n",
    "ax.set_ylabel('Average Revenue Last Year in Dollars');"
   ]
  },
  {
   "cell_type": "markdown",
   "id": "f8253278",
   "metadata": {},
   "source": [
    "According to the plot above, companies that *did* receive tech support generated more revenue *on average* (over twice as much) last year than companies that did not receive tech support from us."
   ]
  },
  {
   "cell_type": "code",
   "execution_count": 57,
   "id": "825bf10a",
   "metadata": {},
   "outputs": [
    {
     "data": {
      "image/png": "[encoded data removed]",
      "text/plain": [
       "<Figure size 432x288 with 1 Axes>"
      ]
     },
     "metadata": {
      "needs_background": "light"
     },
     "output_type": "display_data"
    }
   ],
   "source": [
    "fig, ax = plt.subplots()\n",
    "\n",
    "data['Discount'].value_counts().plot(kind='barh', ax=ax)\n",
    "ax.set(title='Number of Companies that Received a Discount')\n",
    "ax.set_yticklabels(['No Discount', 'Discount']);"
   ]
  },
  {
   "cell_type": "markdown",
   "id": "3ecd9591",
   "metadata": {},
   "source": [
    "Roughly the same number of companies fall into the treatment group versus the control group for investigating disocunts which makes this a good fit for an uplift model (assuming that companies that received a discount were \"selected\" randomly.\\)"
   ]
  },
  {
   "cell_type": "code",
   "execution_count": 58,
   "id": "1273dd38",
   "metadata": {},
   "outputs": [
    {
     "data": {
      "image/png": "[encoded data removed]",
      "text/plain": [
       "<Figure size 432x288 with 1 Axes>"
      ]
     },
     "metadata": {
      "needs_background": "light"
     },
     "output_type": "display_data"
    }
   ],
   "source": [
    "fig, ax = plt.subplots()\n",
    "\n",
    "data.groupby(['Discount']).mean()['Revenue'].plot(kind='bar', ax=ax)\n",
    "ax.set(title='Effect of Receiving a Discount on Revenue')\n",
    "ax.set_xticklabels(['No discount', 'Received discount'], rotation=0)\n",
    "ax.set_xlabel('')\n",
    "ax.set_ylabel('Average Revenue Last Year in Dollars');"
   ]
  },
  {
   "cell_type": "markdown",
   "id": "edf077d7",
   "metadata": {},
   "source": [
    "On average, companies that received a discount spent more overall last year than companies which did not.\n",
    "\n",
    "Note that, if the discount was offered based on amount spent, e.g. \\$50 off a purchase of \\$500 or more, then this could explain the difference in average spent, but this doesn't prevent us from predicting uplift effectively. (In fact, we *want* to determine the causal effect of discount on spending behavior.)"
   ]
  },
  {
   "cell_type": "markdown",
   "id": "c01b3d91",
   "metadata": {},
   "source": [
    "It remains to be seen whether or not the features we have for each company are informative for uplift.\n",
    "\n",
    "<u>Next Steps</u>\n",
    "\n",
    "Calculate actual uplift by revenue group\n",
    "\n",
    "- Divide companies into quintiles by revenue\n",
    "- Calculate the uplift for each revenue group"
   ]
  }
 ],
 "metadata": {
  "kernelspec": {
   "display_name": "uplift",
   "language": "python",
   "name": "uplift"
  },
  "language_info": {
   "codemirror_mode": {
    "name": "ipython",
    "version": 3
   },
   "file_extension": ".py",
   "mimetype": "text/x-python",
   "name": "python",
   "nbconvert_exporter": "python",
   "pygments_lexer": "ipython3",
   "version": "3.5.6"
  }
 },
 "nbformat": 4,
 "nbformat_minor": 5
}
